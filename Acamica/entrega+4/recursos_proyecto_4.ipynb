{
 "cells": [
  {
   "cell_type": "markdown",
   "metadata": {},
   "source": [
    "# MiniProyecto 4: Optimización de parámetros"
   ]
  },
  {
   "cell_type": "markdown",
   "metadata": {},
   "source": [
    "¡Bienvenidos al cuarto (mini)proyecto de la carrera de Data Science de Acamica! \n",
    "\n",
    "En este proyecto vamos a seguir trabajando (por última vez) con el dataset de propiedades en venta publicadas en el portal [Properati](www.properati.com.ar). El objetivo en este caso es optimizar los parámetros de los algoritmos que usamos en el proyecto pasado.\n",
    "\n",
    "El dataset es el mismo del proyecto 3. Recordemos que las columnas que se agregan son:\n",
    "\n",
    "* `barrios_match`: si coincide el barrio publicado con el geográfico vale 1, si no 0.\n",
    "\n",
    "* `PH`, `apartment`, `house`: variables binarias que indican el tipo de propiedad.\n",
    "\n",
    "* dummies de barrios: variables binarias con 1 o 0 según el barrio.\n",
    "\n",
    "La métrica que vamos a usar para medir es RMSE (raíz del error cuadréatico medio), cuya fórmula es:\n",
    "\n",
    "$$RMSE = \\sqrt{\\frac{\\sum_{t=1}^n (\\hat y_t - y_t)^2}{n}}$$"
   ]
  },
  {
   "cell_type": "markdown",
   "metadata": {},
   "source": [
    "## Pandas - Levantamos el dataset"
   ]
  },
  {
   "cell_type": "code",
   "execution_count": 249,
   "metadata": {},
   "outputs": [
    {
     "data": {
      "text/html": [
       "<div>\n",
       "<style scoped>\n",
       "    .dataframe tbody tr th:only-of-type {\n",
       "        vertical-align: middle;\n",
       "    }\n",
       "\n",
       "    .dataframe tbody tr th {\n",
       "        vertical-align: top;\n",
       "    }\n",
       "\n",
       "    .dataframe thead th {\n",
       "        text-align: right;\n",
       "    }\n",
       "</style>\n",
       "<table border=\"1\" class=\"dataframe\">\n",
       "  <thead>\n",
       "    <tr style=\"text-align: right;\">\n",
       "      <th></th>\n",
       "      <th>lat</th>\n",
       "      <th>lon</th>\n",
       "      <th>price_aprox_usd</th>\n",
       "      <th>surface_total_in_m2</th>\n",
       "      <th>surface_covered_in_m2</th>\n",
       "      <th>rooms</th>\n",
       "      <th>barrio_match</th>\n",
       "      <th>PH</th>\n",
       "      <th>apartment</th>\n",
       "      <th>house</th>\n",
       "      <th>...</th>\n",
       "      <th>VILLA LUGANO</th>\n",
       "      <th>VILLA LURO</th>\n",
       "      <th>VILLA ORTUZAR</th>\n",
       "      <th>VILLA PUEYRREDON</th>\n",
       "      <th>VILLA REAL</th>\n",
       "      <th>VILLA RIACHUELO</th>\n",
       "      <th>VILLA SANTA RITA</th>\n",
       "      <th>VILLA SOLDATI</th>\n",
       "      <th>VILLA URQUIZA</th>\n",
       "      <th>outlier_price_m2</th>\n",
       "    </tr>\n",
       "  </thead>\n",
       "  <tbody>\n",
       "    <tr>\n",
       "      <th>0</th>\n",
       "      <td>-34.589</td>\n",
       "      <td>-58.417</td>\n",
       "      <td>170000.000</td>\n",
       "      <td>40.000</td>\n",
       "      <td>38.000</td>\n",
       "      <td>1</td>\n",
       "      <td>1</td>\n",
       "      <td>0</td>\n",
       "      <td>1</td>\n",
       "      <td>0</td>\n",
       "      <td>...</td>\n",
       "      <td>0</td>\n",
       "      <td>0</td>\n",
       "      <td>0</td>\n",
       "      <td>0</td>\n",
       "      <td>0</td>\n",
       "      <td>0</td>\n",
       "      <td>0</td>\n",
       "      <td>0</td>\n",
       "      <td>0</td>\n",
       "      <td>0</td>\n",
       "    </tr>\n",
       "    <tr>\n",
       "      <th>1</th>\n",
       "      <td>-34.591</td>\n",
       "      <td>-58.418</td>\n",
       "      <td>90000.000</td>\n",
       "      <td>27.000</td>\n",
       "      <td>27.000</td>\n",
       "      <td>1</td>\n",
       "      <td>1</td>\n",
       "      <td>0</td>\n",
       "      <td>1</td>\n",
       "      <td>0</td>\n",
       "      <td>...</td>\n",
       "      <td>0</td>\n",
       "      <td>0</td>\n",
       "      <td>0</td>\n",
       "      <td>0</td>\n",
       "      <td>0</td>\n",
       "      <td>0</td>\n",
       "      <td>0</td>\n",
       "      <td>0</td>\n",
       "      <td>0</td>\n",
       "      <td>0</td>\n",
       "    </tr>\n",
       "    <tr>\n",
       "      <th>2</th>\n",
       "      <td>-34.587</td>\n",
       "      <td>-58.437</td>\n",
       "      <td>150000.000</td>\n",
       "      <td>44.000</td>\n",
       "      <td>44.000</td>\n",
       "      <td>1</td>\n",
       "      <td>1</td>\n",
       "      <td>0</td>\n",
       "      <td>1</td>\n",
       "      <td>0</td>\n",
       "      <td>...</td>\n",
       "      <td>0</td>\n",
       "      <td>0</td>\n",
       "      <td>0</td>\n",
       "      <td>0</td>\n",
       "      <td>0</td>\n",
       "      <td>0</td>\n",
       "      <td>0</td>\n",
       "      <td>0</td>\n",
       "      <td>0</td>\n",
       "      <td>0</td>\n",
       "    </tr>\n",
       "    <tr>\n",
       "      <th>3</th>\n",
       "      <td>-34.593</td>\n",
       "      <td>-58.428</td>\n",
       "      <td>154000.000</td>\n",
       "      <td>58.000</td>\n",
       "      <td>58.000</td>\n",
       "      <td>2</td>\n",
       "      <td>1</td>\n",
       "      <td>1</td>\n",
       "      <td>0</td>\n",
       "      <td>0</td>\n",
       "      <td>...</td>\n",
       "      <td>0</td>\n",
       "      <td>0</td>\n",
       "      <td>0</td>\n",
       "      <td>0</td>\n",
       "      <td>0</td>\n",
       "      <td>0</td>\n",
       "      <td>0</td>\n",
       "      <td>0</td>\n",
       "      <td>0</td>\n",
       "      <td>0</td>\n",
       "    </tr>\n",
       "    <tr>\n",
       "      <th>4</th>\n",
       "      <td>-34.593</td>\n",
       "      <td>-58.428</td>\n",
       "      <td>154000.000</td>\n",
       "      <td>58.000</td>\n",
       "      <td>58.000</td>\n",
       "      <td>3</td>\n",
       "      <td>1</td>\n",
       "      <td>1</td>\n",
       "      <td>0</td>\n",
       "      <td>0</td>\n",
       "      <td>...</td>\n",
       "      <td>0</td>\n",
       "      <td>0</td>\n",
       "      <td>0</td>\n",
       "      <td>0</td>\n",
       "      <td>0</td>\n",
       "      <td>0</td>\n",
       "      <td>0</td>\n",
       "      <td>0</td>\n",
       "      <td>0</td>\n",
       "      <td>0</td>\n",
       "    </tr>\n",
       "  </tbody>\n",
       "</table>\n",
       "<p>5 rows × 59 columns</p>\n",
       "</div>"
      ],
      "text/plain": [
       "      lat     lon  price_aprox_usd  surface_total_in_m2  \\\n",
       "0 -34.589 -58.417       170000.000               40.000   \n",
       "1 -34.591 -58.418        90000.000               27.000   \n",
       "2 -34.587 -58.437       150000.000               44.000   \n",
       "3 -34.593 -58.428       154000.000               58.000   \n",
       "4 -34.593 -58.428       154000.000               58.000   \n",
       "\n",
       "   surface_covered_in_m2  rooms  barrio_match  PH  apartment  house  ...  \\\n",
       "0                 38.000      1             1   0          1      0  ...   \n",
       "1                 27.000      1             1   0          1      0  ...   \n",
       "2                 44.000      1             1   0          1      0  ...   \n",
       "3                 58.000      2             1   1          0      0  ...   \n",
       "4                 58.000      3             1   1          0      0  ...   \n",
       "\n",
       "   VILLA LUGANO  VILLA LURO  VILLA ORTUZAR  VILLA PUEYRREDON  VILLA REAL  \\\n",
       "0             0           0              0                 0           0   \n",
       "1             0           0              0                 0           0   \n",
       "2             0           0              0                 0           0   \n",
       "3             0           0              0                 0           0   \n",
       "4             0           0              0                 0           0   \n",
       "\n",
       "   VILLA RIACHUELO  VILLA SANTA RITA  VILLA SOLDATI  VILLA URQUIZA  \\\n",
       "0                0                 0              0              0   \n",
       "1                0                 0              0              0   \n",
       "2                0                 0              0              0   \n",
       "3                0                 0              0              0   \n",
       "4                0                 0              0              0   \n",
       "\n",
       "   outlier_price_m2  \n",
       "0                 0  \n",
       "1                 0  \n",
       "2                 0  \n",
       "3                 0  \n",
       "4                 0  \n",
       "\n",
       "[5 rows x 59 columns]"
      ]
     },
     "execution_count": 249,
     "metadata": {},
     "output_type": "execute_result"
    }
   ],
   "source": [
    "import pandas as pd\n",
    "pd.set_option('display.float_format', lambda x: '%.3f' % x)\n",
    "path_dataset = './dataset/datos_properati_limpios_model.csv'\n",
    "df = pd.read_csv(path_dataset)\n",
    "df.head()"
   ]
  },
  {
   "cell_type": "markdown",
   "metadata": {},
   "source": [
    "**Separá** el dataset en entrenamiento (80%) y test (20%) utilizando como target la columna `price_aprox_usd`"
   ]
  },
  {
   "cell_type": "code",
   "execution_count": 250,
   "metadata": {},
   "outputs": [],
   "source": [
    "# Hacé la separación en esta celda\n",
    "X = df.drop(['price_aprox_usd'], axis=1)\n",
    "y = df['price_aprox_usd']"
   ]
  },
  {
   "cell_type": "code",
   "execution_count": 251,
   "metadata": {},
   "outputs": [
    {
     "name": "stdout",
     "output_type": "stream",
     "text": [
      "5100 1276\n"
     ]
    }
   ],
   "source": [
    "# Esto es lo que hace\n",
    "import numpy as np\n",
    "np.random.seed(123)\n",
    "from sklearn.model_selection import train_test_split\n",
    "X_train, X_test, y_train, y_test = train_test_split(\n",
    "    X, y, test_size=0.2, random_state=42)\n",
    "\n",
    "print(X_train.shape[0], X_test.shape[0])"
   ]
  },
  {
   "cell_type": "markdown",
   "metadata": {},
   "source": [
    "## Scikit-learn - Entrenamiento"
   ]
  },
  {
   "cell_type": "markdown",
   "metadata": {},
   "source": [
    "Para repasar los parámetros de árboles de decisión en Scikit-learn: \n",
    "\n",
    "http://scikit-learn.org/stable/modules/generated/sklearn.tree.DecisionTreeRegressor.html"
   ]
  },
  {
   "cell_type": "markdown",
   "metadata": {},
   "source": [
    "En primer lugar veamos como hacer cross validation. Para eso necesitamos definir la cantidad de folds, en este caso vamos a usar 5.\n",
    "\n",
    "GridSearchCV nos permite testear a través de un espacio de búsqueda de parámetros la mejor combinación posible dado un estimador.\n",
    "\n",
    "Por ejemplo, en este caso probamos la profundidad máxima y la máxima cantidad de features para hacer los split. Ambos entre 1 y 5.\n",
    "Recordemos que para hacer la optimización scikit-learn usa la métrica `neg_mean_squared_error` en lugar de `mean_squared_error`."
   ]
  },
  {
   "cell_type": "markdown",
   "metadata": {},
   "source": [
    "**Creá** una variable `param_grid` con valores del 1 al 5 para los atributos `max_depth` y `max_features`. "
   ]
  },
  {
   "cell_type": "code",
   "execution_count": 252,
   "metadata": {},
   "outputs": [
    {
     "name": "stdout",
     "output_type": "stream",
     "text": [
      "{'max_depth': [1, 2, 3, 4, 5], 'max_features': [1, 2, 3, 4, 5]}\n"
     ]
    }
   ],
   "source": [
    "# Creá en esta celda la variable param_grid\n",
    "ran = [1, 2, 3, 4, 5]\n",
    "param_grid = {'max_depth': ran, 'max_features': ran}\n",
    "print(param_grid)"
   ]
  },
  {
   "cell_type": "markdown",
   "metadata": {},
   "source": [
    "**Importá** `GridSearchCV` y `DecisionTreeRegressor`.\n",
    "\n",
    "**Creá** una variable `grid_search` y asignale un `GridSearchCV` que recorra el `param_grid` que creaste con el algoritmos `DecisionTreeRegressor` y el un scoring de `neg_mean_squared_error`"
   ]
  },
  {
   "cell_type": "code",
   "execution_count": 253,
   "metadata": {},
   "outputs": [],
   "source": [
    "# Importa y crea un GridSearchCV en esta celda\n",
    "from sklearn.tree import DecisionTreeRegressor\n",
    "from sklearn.model_selection import GridSearchCV\n",
    "tree = DecisionTreeRegressor(random_state=42)\n",
    "grid_search = GridSearchCV(tree, param_grid, scoring='neg_mean_squared_error', return_train_score=True)"
   ]
  },
  {
   "cell_type": "markdown",
   "metadata": {},
   "source": [
    "A continuación, realizá el `fit` del `grid_search` con el conjunto de entrenamiento"
   ]
  },
  {
   "cell_type": "code",
   "execution_count": 254,
   "metadata": {},
   "outputs": [
    {
     "data": {
      "text/plain": [
       "GridSearchCV(cv=None, error_score=nan,\n",
       "             estimator=DecisionTreeRegressor(ccp_alpha=0.0, criterion='mse',\n",
       "                                             max_depth=None, max_features=None,\n",
       "                                             max_leaf_nodes=None,\n",
       "                                             min_impurity_decrease=0.0,\n",
       "                                             min_impurity_split=None,\n",
       "                                             min_samples_leaf=1,\n",
       "                                             min_samples_split=2,\n",
       "                                             min_weight_fraction_leaf=0.0,\n",
       "                                             presort='deprecated',\n",
       "                                             random_state=42, splitter='best'),\n",
       "             iid='deprecated', n_jobs=None,\n",
       "             param_grid={'max_depth': [1, 2, 3, 4, 5],\n",
       "                         'max_features': [1, 2, 3, 4, 5]},\n",
       "             pre_dispatch='2*n_jobs', refit=True, return_train_score=True,\n",
       "             scoring='neg_mean_squared_error', verbose=0)"
      ]
     },
     "execution_count": 254,
     "metadata": {},
     "output_type": "execute_result"
    }
   ],
   "source": [
    "# Hace el fit de grid search en esta celda\n",
    "grid_search.fit(X_train, y_train)"
   ]
  },
  {
   "cell_type": "code",
   "execution_count": 255,
   "metadata": {},
   "outputs": [],
   "source": [
    "def nmsq2rmse(score):\n",
    "    return np.round(np.sqrt(-score), 2)"
   ]
  },
  {
   "cell_type": "markdown",
   "metadata": {},
   "source": [
    "Revisemos los resultados. Recordemos que no están expresados en RMSE."
   ]
  },
  {
   "cell_type": "code",
   "execution_count": 256,
   "metadata": {},
   "outputs": [
    {
     "data": {
      "text/plain": [
       "{'mean_fit_time': array([0.00467854, 0.00263705, 0.00307627, 0.00266986, 0.00282769,\n",
       "        0.00271697, 0.0025877 , 0.0030766 , 0.003755  , 0.00293794,\n",
       "        0.0030036 , 0.00299125, 0.00259304, 0.00337777, 0.00307217,\n",
       "        0.00318704, 0.00354562, 0.00296826, 0.00322719, 0.00342932,\n",
       "        0.00300488, 0.00309081, 0.00277362, 0.0033596 , 0.00342631]),\n",
       " 'std_fit_time': array([2.89777046e-03, 1.23875704e-04, 7.63915993e-04, 1.70721115e-04,\n",
       "        1.51945071e-04, 2.50496288e-04, 8.78807907e-05, 4.64177043e-04,\n",
       "        6.64319093e-04, 2.41771139e-04, 5.78487395e-04, 1.23100239e-04,\n",
       "        1.28108672e-05, 3.71937648e-04, 2.59372179e-04, 4.30044959e-04,\n",
       "        4.31215171e-04, 1.52521521e-04, 9.80928791e-05, 3.19961983e-04,\n",
       "        5.28432449e-04, 4.85075827e-05, 4.48446524e-05, 1.08731252e-04,\n",
       "        4.37846409e-04]),\n",
       " 'mean_score_time': array([0.00151863, 0.00083003, 0.00129991, 0.00093942, 0.0008872 ,\n",
       "        0.00088234, 0.00092111, 0.0011622 , 0.0008966 , 0.00089393,\n",
       "        0.00085902, 0.00092831, 0.00088048, 0.00084662, 0.00092463,\n",
       "        0.00086036, 0.00112824, 0.00097437, 0.00094428, 0.00092287,\n",
       "        0.00103722, 0.0008605 , 0.00086756, 0.0009254 , 0.00092988]),\n",
       " 'std_score_time': array([8.68738214e-04, 5.66734553e-06, 5.83305921e-04, 1.43549084e-04,\n",
       "        8.62945368e-05, 8.05345916e-05, 1.12001690e-04, 3.36343829e-04,\n",
       "        5.17052013e-05, 7.29652162e-05, 3.42683064e-05, 9.38642288e-05,\n",
       "        3.59729315e-05, 1.00893605e-05, 1.50724703e-04, 2.50798214e-05,\n",
       "        5.43598740e-04, 1.35888501e-04, 1.17403816e-04, 4.91307518e-05,\n",
       "        2.88488081e-04, 2.52720995e-05, 4.64115676e-05, 9.54473399e-05,\n",
       "        9.07825068e-05]),\n",
       " 'param_max_depth': masked_array(data=[1, 1, 1, 1, 1, 2, 2, 2, 2, 2, 3, 3, 3, 3, 3, 4, 4, 4,\n",
       "                    4, 4, 5, 5, 5, 5, 5],\n",
       "              mask=[False, False, False, False, False, False, False, False,\n",
       "                    False, False, False, False, False, False, False, False,\n",
       "                    False, False, False, False, False, False, False, False,\n",
       "                    False],\n",
       "        fill_value='?',\n",
       "             dtype=object),\n",
       " 'param_max_features': masked_array(data=[1, 2, 3, 4, 5, 1, 2, 3, 4, 5, 1, 2, 3, 4, 5, 1, 2, 3,\n",
       "                    4, 5, 1, 2, 3, 4, 5],\n",
       "              mask=[False, False, False, False, False, False, False, False,\n",
       "                    False, False, False, False, False, False, False, False,\n",
       "                    False, False, False, False, False, False, False, False,\n",
       "                    False],\n",
       "        fill_value='?',\n",
       "             dtype=object),\n",
       " 'params': [{'max_depth': 1, 'max_features': 1},\n",
       "  {'max_depth': 1, 'max_features': 2},\n",
       "  {'max_depth': 1, 'max_features': 3},\n",
       "  {'max_depth': 1, 'max_features': 4},\n",
       "  {'max_depth': 1, 'max_features': 5},\n",
       "  {'max_depth': 2, 'max_features': 1},\n",
       "  {'max_depth': 2, 'max_features': 2},\n",
       "  {'max_depth': 2, 'max_features': 3},\n",
       "  {'max_depth': 2, 'max_features': 4},\n",
       "  {'max_depth': 2, 'max_features': 5},\n",
       "  {'max_depth': 3, 'max_features': 1},\n",
       "  {'max_depth': 3, 'max_features': 2},\n",
       "  {'max_depth': 3, 'max_features': 3},\n",
       "  {'max_depth': 3, 'max_features': 4},\n",
       "  {'max_depth': 3, 'max_features': 5},\n",
       "  {'max_depth': 4, 'max_features': 1},\n",
       "  {'max_depth': 4, 'max_features': 2},\n",
       "  {'max_depth': 4, 'max_features': 3},\n",
       "  {'max_depth': 4, 'max_features': 4},\n",
       "  {'max_depth': 4, 'max_features': 5},\n",
       "  {'max_depth': 5, 'max_features': 1},\n",
       "  {'max_depth': 5, 'max_features': 2},\n",
       "  {'max_depth': 5, 'max_features': 3},\n",
       "  {'max_depth': 5, 'max_features': 4},\n",
       "  {'max_depth': 5, 'max_features': 5}],\n",
       " 'split0_test_score': array([-9.94459407e+08, -9.94459407e+08, -9.94459407e+08, -9.94459407e+08,\n",
       "        -9.94459407e+08, -9.92202585e+08, -9.91888240e+08, -9.94067481e+08,\n",
       "        -9.85009202e+08, -9.92008371e+08, -9.87400561e+08, -9.85267475e+08,\n",
       "        -9.94685084e+08, -9.78539853e+08, -8.93600824e+08, -9.87575113e+08,\n",
       "        -9.82061808e+08, -9.83431530e+08, -8.83849367e+08, -7.19679074e+08,\n",
       "        -9.89107792e+08, -8.86757689e+08, -9.81638931e+08, -8.62500753e+08,\n",
       "        -7.99764587e+08]),\n",
       " 'split1_test_score': array([-9.88137206e+08, -9.88137206e+08, -9.88137206e+08, -9.88137206e+08,\n",
       "        -9.88137206e+08, -9.88550589e+08, -9.88267774e+08, -9.88798121e+08,\n",
       "        -9.75977795e+08, -9.83191591e+08, -9.88090970e+08, -9.75525733e+08,\n",
       "        -9.86627341e+08, -9.67548001e+08, -9.06964270e+08, -9.87514537e+08,\n",
       "        -9.67472951e+08, -9.86946853e+08, -8.88288327e+08, -7.32471118e+08,\n",
       "        -9.84696609e+08, -8.97496285e+08, -9.83349436e+08, -8.85841941e+08,\n",
       "        -8.34719856e+08]),\n",
       " 'split2_test_score': array([-9.33590399e+08, -9.33590399e+08, -9.33590399e+08, -9.33590399e+08,\n",
       "        -9.33590399e+08, -9.31518149e+08, -9.35150339e+08, -9.34594004e+08,\n",
       "        -9.17261065e+08, -9.37771489e+08, -9.33610948e+08, -9.17387254e+08,\n",
       "        -9.37844253e+08, -9.16776514e+08, -8.58341027e+08, -9.22690524e+08,\n",
       "        -9.08016970e+08, -9.45922653e+08, -8.25018297e+08, -6.92059747e+08,\n",
       "        -9.27748893e+08, -8.43400533e+08, -9.33328349e+08, -8.35947064e+08,\n",
       "        -7.95201315e+08]),\n",
       " 'split3_test_score': array([-1.00384710e+09, -1.00384710e+09, -1.00384710e+09, -1.00384710e+09,\n",
       "        -1.00384710e+09, -1.00413314e+09, -1.00474366e+09, -1.00067296e+09,\n",
       "        -9.85678500e+08, -1.00089015e+09, -1.00296677e+09, -9.86379096e+08,\n",
       "        -1.00724123e+09, -9.78060547e+08, -9.25648837e+08, -9.88424861e+08,\n",
       "        -9.90651247e+08, -9.86892994e+08, -8.91653909e+08, -7.21414782e+08,\n",
       "        -9.93355207e+08, -9.00123802e+08, -9.79138389e+08, -8.67719487e+08,\n",
       "        -8.68985835e+08]),\n",
       " 'split4_test_score': array([-9.65450112e+08, -9.65450112e+08, -9.65450112e+08, -9.65450112e+08,\n",
       "        -9.65450112e+08, -9.62029250e+08, -9.64200619e+08, -9.61219101e+08,\n",
       "        -9.37952359e+08, -9.57676362e+08, -9.61178024e+08, -9.35613120e+08,\n",
       "        -9.69950475e+08, -9.40262975e+08, -9.20781630e+08, -9.45012557e+08,\n",
       "        -9.27236032e+08, -9.64253618e+08, -8.43625734e+08, -7.08746603e+08,\n",
       "        -9.51257367e+08, -8.33853295e+08, -9.53230157e+08, -8.28766176e+08,\n",
       "        -8.41916268e+08]),\n",
       " 'mean_test_score': array([-9.77096844e+08, -9.77096844e+08, -9.77096844e+08, -9.77096844e+08,\n",
       "        -9.77096844e+08, -9.75686743e+08, -9.76850126e+08, -9.75870332e+08,\n",
       "        -9.60375784e+08, -9.74307592e+08, -9.74649455e+08, -9.60034535e+08,\n",
       "        -9.79269676e+08, -9.56237578e+08, -9.01067317e+08, -9.66243518e+08,\n",
       "        -9.55087802e+08, -9.73489530e+08, -8.66487127e+08, -7.14874265e+08,\n",
       "        -9.69233174e+08, -8.72326321e+08, -9.66137052e+08, -8.56155084e+08,\n",
       "        -8.28117572e+08]),\n",
       " 'std_test_score': array([25168954.57118689, 25168954.57118689, 25168954.57118689,\n",
       "        25168954.57118687, 25168954.57118683, 26018612.61144749,\n",
       "        24631033.20220553, 24624491.48874831, 27756601.05726792,\n",
       "        23282438.69745575, 24538842.22991481, 28234413.26763092,\n",
       "        23987875.22728077, 24140930.32224954, 24120380.22736006,\n",
       "        27375617.53042405, 32053492.23785356, 16154445.61737679,\n",
       "        27027444.60613399, 13664290.97637292, 25534548.89357213,\n",
       "        28040565.02555761, 19741368.56963397, 21041999.54034884,\n",
       "        27537541.15557145]),\n",
       " 'rank_test_score': array([22, 22, 22, 20, 20, 17, 19, 18, 10, 15, 16,  9, 25,  8,  6, 12,  7,\n",
       "        14,  4,  1, 13,  5, 11,  3,  2], dtype=int32),\n",
       " 'split0_train_score': array([-9.71802087e+08, -9.71802087e+08, -9.71802087e+08, -9.71802087e+08,\n",
       "        -9.71802087e+08, -9.70543512e+08, -9.68202390e+08, -9.69328853e+08,\n",
       "        -9.50877128e+08, -9.66012880e+08, -9.65557121e+08, -9.45650332e+08,\n",
       "        -9.67829269e+08, -9.45087326e+08, -8.94097085e+08, -9.54742858e+08,\n",
       "        -9.42526910e+08, -9.57089746e+08, -8.46198060e+08, -7.03072333e+08,\n",
       "        -9.45518265e+08, -8.55163902e+08, -9.46276572e+08, -8.22022335e+08,\n",
       "        -8.03754527e+08]),\n",
       " 'split1_train_score': array([-9.73477618e+08, -9.73477618e+08, -9.73477618e+08, -9.73477618e+08,\n",
       "        -9.73477618e+08, -9.71550997e+08, -9.69199222e+08, -9.70776956e+08,\n",
       "        -9.53857572e+08, -9.68311619e+08, -9.68069691e+08, -9.51346373e+08,\n",
       "        -9.70082181e+08, -9.48542866e+08, -8.90745078e+08, -9.56344863e+08,\n",
       "        -9.47570192e+08, -9.55104669e+08, -8.54635759e+08, -7.06377086e+08,\n",
       "        -9.54738862e+08, -8.59386341e+08, -9.49865976e+08, -8.23777691e+08,\n",
       "        -7.98124767e+08]),\n",
       " 'split2_train_score': array([-9.87115312e+08, -9.87115312e+08, -9.87115312e+08, -9.87115312e+08,\n",
       "        -9.87115312e+08, -9.85797442e+08, -9.83905926e+08, -9.84545431e+08,\n",
       "        -9.67567888e+08, -9.80399022e+08, -9.81604206e+08, -9.61232111e+08,\n",
       "        -9.82023350e+08, -9.60736643e+08, -9.04159535e+08, -9.71363352e+08,\n",
       "        -9.51189755e+08, -9.70206103e+08, -8.61766858e+08, -7.10556829e+08,\n",
       "        -9.67140951e+08, -8.51374829e+08, -9.66032808e+08, -8.47671550e+08,\n",
       "        -8.05289651e+08]),\n",
       " 'split3_train_score': array([-9.69720706e+08, -9.69720706e+08, -9.69720706e+08, -9.69720706e+08,\n",
       "        -9.69720706e+08, -9.67212723e+08, -9.65824680e+08, -9.68105082e+08,\n",
       "        -9.50683068e+08, -9.65688136e+08, -9.64626862e+08, -9.48902214e+08,\n",
       "        -9.66739729e+08, -9.44975515e+08, -8.86676780e+08, -9.54816038e+08,\n",
       "        -9.42410586e+08, -9.57178226e+08, -8.46263115e+08, -6.80261769e+08,\n",
       "        -9.52728838e+08, -8.49660923e+08, -9.50203801e+08, -8.35274898e+08,\n",
       "        -8.26140299e+08]),\n",
       " 'split4_train_score': array([-9.79052090e+08, -9.79052090e+08, -9.79052090e+08, -9.79052090e+08,\n",
       "        -9.79052090e+08, -9.78108300e+08, -9.75696567e+08, -9.77657823e+08,\n",
       "        -9.62582257e+08, -9.74672810e+08, -9.75281736e+08, -9.56929631e+08,\n",
       "        -9.75677370e+08, -9.56150521e+08, -8.88088262e+08, -9.65510227e+08,\n",
       "        -9.43197844e+08, -9.63376014e+08, -8.56500913e+08, -7.06528272e+08,\n",
       "        -9.62107725e+08, -8.52144511e+08, -9.56022148e+08, -8.48161364e+08,\n",
       "        -8.08783451e+08]),\n",
       " 'mean_train_score': array([-9.76233563e+08, -9.76233563e+08, -9.76233563e+08, -9.76233563e+08,\n",
       "        -9.76233563e+08, -9.74642595e+08, -9.72565757e+08, -9.74082829e+08,\n",
       "        -9.57113583e+08, -9.71016893e+08, -9.71027923e+08, -9.52812132e+08,\n",
       "        -9.72470380e+08, -9.51098574e+08, -8.92753348e+08, -9.60555467e+08,\n",
       "        -9.45379057e+08, -9.60590951e+08, -8.53072941e+08, -7.01359258e+08,\n",
       "        -9.56446928e+08, -8.53546101e+08, -9.53680261e+08, -8.35381568e+08,\n",
       "        -8.08418539e+08]),\n",
       " 'std_train_score': array([ 6261103.52792014,  6261103.52792014,  6261103.52792014,\n",
       "         6261103.52792014,  6261103.52792014,  6603107.9897617 ,\n",
       "         6545472.547357  ,  6188847.6319958 ,  6782999.56194579,\n",
       "         5694635.5247109 ,  6474675.12687172,  5596018.92513418,\n",
       "         5685556.76185737,  6301954.29917127,  6239031.78596866,\n",
       "         6720367.351441  ,  3471873.85673671,  5553595.94712741,\n",
       "         6056654.3032045 , 10812319.76044228,  7517766.9691504 ,\n",
       "         3420501.71452532,  6921257.22524495, 11202654.24750134,\n",
       "         9504721.24980975])}"
      ]
     },
     "execution_count": 256,
     "metadata": {},
     "output_type": "execute_result"
    }
   ],
   "source": [
    "grid_search.cv_results_"
   ]
  },
  {
   "cell_type": "markdown",
   "metadata": {},
   "source": [
    "**Mostrá** los `grid_scores` obtenidos durante el `grid_search`"
   ]
  },
  {
   "cell_type": "code",
   "execution_count": 257,
   "metadata": {},
   "outputs": [
    {
     "name": "stdout",
     "output_type": "stream",
     "text": [
      "[31244.74 31244.74 31244.74 31244.74 31244.74 31219.27 31185.99 31210.3\n",
      " 30937.25 31161.14 31161.32 30867.66 31184.46 30839.89 29878.98 30992.83\n",
      " 30747.02 30993.4  29207.41 26483.19 30926.48 29215.51 30881.71 28902.97\n",
      " 28432.7 ]\n",
      "[31258.55 31258.55 31258.55 31258.55 31258.55 31235.98 31254.6  31238.92\n",
      " 30989.93 31213.9  31219.38 30984.42 31293.28 30923.09 30017.78 31084.46\n",
      " 30904.49 31200.79 29436.15 26737.13 31132.51 29535.17 31082.75 29260.13\n",
      " 28777.03]\n"
     ]
    }
   ],
   "source": [
    "# Mostrá los grid_scores en esta celda\n",
    "print(nmsq2rmse(grid_search.cv_results_['mean_train_score']))\n",
    "print(nmsq2rmse(grid_search.cv_results_['mean_test_score']))"
   ]
  },
  {
   "cell_type": "markdown",
   "metadata": {},
   "source": [
    "De esta manera, el valor con mejor resultado (dado el espacio de búsqueda definido) es `max_depth` 3 y `max_features` 3."
   ]
  },
  {
   "cell_type": "markdown",
   "metadata": {},
   "source": [
    "### El ejercicio marca que los mejores resultados son con `max_depth` 3 y `max_features` 3 y no es asi"
   ]
  },
  {
   "cell_type": "markdown",
   "metadata": {},
   "source": [
    "**Mostrá** el mejor score y los mejores parámetros encontrados por `grid_search`"
   ]
  },
  {
   "cell_type": "code",
   "execution_count": 258,
   "metadata": {},
   "outputs": [
    {
     "name": "stdout",
     "output_type": "stream",
     "text": [
      "26737.13\n",
      "{'max_depth': 4, 'max_features': 5}\n"
     ]
    }
   ],
   "source": [
    "# Mostrás los resultados en esta celda\n",
    "\n",
    "print(nmsq2rmse(grid_search.best_score_))\n",
    "print(grid_search.best_params_)"
   ]
  },
  {
   "cell_type": "markdown",
   "metadata": {},
   "source": [
    "#### Los mejores resultados son con `max_depth` 4 y `max_features` 5"
   ]
  },
  {
   "cell_type": "markdown",
   "metadata": {},
   "source": [
    "Convertimos a RMSE."
   ]
  },
  {
   "cell_type": "code",
   "execution_count": 259,
   "metadata": {},
   "outputs": [
    {
     "data": {
      "text/plain": [
       "26358.0"
      ]
     },
     "execution_count": 259,
     "metadata": {},
     "output_type": "execute_result"
    }
   ],
   "source": [
    "from sklearn.metrics import mean_squared_error\n",
    "y_opt_pred = grid_search.predict(X_test)\n",
    "rmse = np.sqrt(mean_squared_error(y_test, y_opt_pred))\n",
    "np.round(rmse)"
   ]
  },
  {
   "cell_type": "markdown",
   "metadata": {},
   "source": [
    "__Encontrar el mejor modelo para el espacio de búsqueda dado__\n",
    "\n",
    "* `\"min_samples_split\": [2, 10, 20]`\n",
    "* `\"max_depth\": [None, 2, 5, 10, 15]`\n",
    "* `\"min_samples_leaf\": [1, 5, 10, 15]`\n",
    "* `\"max_leaf_nodes\": [None, 5, 10, 20]`"
   ]
  },
  {
   "cell_type": "markdown",
   "metadata": {},
   "source": [
    "Recordemos que `GridSearchCV` tiene como parámetro default `refit=True`. Esto significa que luego de hacer la corrida se ajusta el mejor modelo al conjunto de datos de entrada. De esta manera, se puede predecir directamente usando `best_estimator_`."
   ]
  },
  {
   "cell_type": "code",
   "execution_count": 260,
   "metadata": {},
   "outputs": [],
   "source": [
    "param_grid = {\n",
    "    'min_samples_split': [2, 10, 20],\n",
    "    'max_depth': [None, 2, 5, 10, 15],\n",
    "    \"min_samples_leaf\": [1, 5, 10, 15],\n",
    "    \"max_leaf_nodes\": [None, 5, 10, 20]\n",
    "}\n",
    "tree = DecisionTreeRegressor(random_state=42)\n",
    "grid_search = GridSearchCV(tree, param_grid, scoring='neg_mean_squared_error', return_train_score=True, refit=True)\n",
    "grid_search.fit(X_train,y_train)\n",
    "optimised_decision_tree = grid_search.best_estimator_"
   ]
  },
  {
   "cell_type": "markdown",
   "metadata": {},
   "source": [
    "__Evaluemos en testing el desempeño de este modelo.__\n",
    "\n",
    "Como venimos trabajando, el resultado en testing será la medición que usaremos como benchmark para comparar este modelos con otros en el futuro, puesto que no estuvo en contacto con el dataset de test para la calibración."
   ]
  },
  {
   "cell_type": "code",
   "execution_count": 261,
   "metadata": {},
   "outputs": [
    {
     "data": {
      "text/plain": [
       "21301.0"
      ]
     },
     "execution_count": 261,
     "metadata": {},
     "output_type": "execute_result"
    }
   ],
   "source": [
    "from sklearn.metrics import mean_squared_error\n",
    "y_opt_pred = optimised_decision_tree.predict(X_test)\n",
    "rmse = np.sqrt(mean_squared_error(y_test, y_opt_pred))\n",
    "np.round(rmse)"
   ]
  },
  {
   "cell_type": "markdown",
   "metadata": {},
   "source": [
    "Vemos los primeros 10 resultados de la predicción del valor de propiedades."
   ]
  },
  {
   "cell_type": "code",
   "execution_count": 262,
   "metadata": {},
   "outputs": [],
   "source": [
    "val_real = pd.Series(y_test.values)\n",
    "val_pred = pd.Series(y_opt_pred)"
   ]
  },
  {
   "cell_type": "code",
   "execution_count": 263,
   "metadata": {},
   "outputs": [],
   "source": [
    "predicciones = pd.concat([val_real.rename('Valor real'),val_pred.rename('Valor Pred') ,abs(val_real-val_pred).rename('Dif(+/-)')] ,  axis=1)"
   ]
  },
  {
   "cell_type": "code",
   "execution_count": 264,
   "metadata": {},
   "outputs": [
    {
     "data": {
      "text/html": [
       "<div>\n",
       "<style scoped>\n",
       "    .dataframe tbody tr th:only-of-type {\n",
       "        vertical-align: middle;\n",
       "    }\n",
       "\n",
       "    .dataframe tbody tr th {\n",
       "        vertical-align: top;\n",
       "    }\n",
       "\n",
       "    .dataframe thead th {\n",
       "        text-align: right;\n",
       "    }\n",
       "</style>\n",
       "<table border=\"1\" class=\"dataframe\">\n",
       "  <thead>\n",
       "    <tr style=\"text-align: right;\">\n",
       "      <th></th>\n",
       "      <th>Valor real</th>\n",
       "      <th>Valor Pred</th>\n",
       "      <th>Dif(+/-)</th>\n",
       "    </tr>\n",
       "  </thead>\n",
       "  <tbody>\n",
       "    <tr>\n",
       "      <th>0</th>\n",
       "      <td>80000.000</td>\n",
       "      <td>103438.660</td>\n",
       "      <td>23438.660</td>\n",
       "    </tr>\n",
       "    <tr>\n",
       "      <th>1</th>\n",
       "      <td>128000.000</td>\n",
       "      <td>135705.882</td>\n",
       "      <td>7705.882</td>\n",
       "    </tr>\n",
       "    <tr>\n",
       "      <th>2</th>\n",
       "      <td>150000.000</td>\n",
       "      <td>156075.759</td>\n",
       "      <td>6075.759</td>\n",
       "    </tr>\n",
       "    <tr>\n",
       "      <th>3</th>\n",
       "      <td>85000.000</td>\n",
       "      <td>102400.991</td>\n",
       "      <td>17400.991</td>\n",
       "    </tr>\n",
       "    <tr>\n",
       "      <th>4</th>\n",
       "      <td>135000.000</td>\n",
       "      <td>135571.622</td>\n",
       "      <td>571.622</td>\n",
       "    </tr>\n",
       "    <tr>\n",
       "      <th>5</th>\n",
       "      <td>135000.000</td>\n",
       "      <td>109560.000</td>\n",
       "      <td>25440.000</td>\n",
       "    </tr>\n",
       "    <tr>\n",
       "      <th>6</th>\n",
       "      <td>68000.000</td>\n",
       "      <td>75181.250</td>\n",
       "      <td>7181.250</td>\n",
       "    </tr>\n",
       "    <tr>\n",
       "      <th>7</th>\n",
       "      <td>110000.000</td>\n",
       "      <td>140444.444</td>\n",
       "      <td>30444.444</td>\n",
       "    </tr>\n",
       "    <tr>\n",
       "      <th>8</th>\n",
       "      <td>134000.000</td>\n",
       "      <td>158431.250</td>\n",
       "      <td>24431.250</td>\n",
       "    </tr>\n",
       "    <tr>\n",
       "      <th>9</th>\n",
       "      <td>110000.000</td>\n",
       "      <td>76701.202</td>\n",
       "      <td>33298.798</td>\n",
       "    </tr>\n",
       "  </tbody>\n",
       "</table>\n",
       "</div>"
      ],
      "text/plain": [
       "   Valor real  Valor Pred  Dif(+/-)\n",
       "0   80000.000  103438.660 23438.660\n",
       "1  128000.000  135705.882  7705.882\n",
       "2  150000.000  156075.759  6075.759\n",
       "3   85000.000  102400.991 17400.991\n",
       "4  135000.000  135571.622   571.622\n",
       "5  135000.000  109560.000 25440.000\n",
       "6   68000.000   75181.250  7181.250\n",
       "7  110000.000  140444.444 30444.444\n",
       "8  134000.000  158431.250 24431.250\n",
       "9  110000.000   76701.202 33298.798"
      ]
     },
     "execution_count": 264,
     "metadata": {},
     "output_type": "execute_result"
    }
   ],
   "source": [
    "predicciones.head(10)"
   ]
  },
  {
   "cell_type": "code",
   "execution_count": null,
   "metadata": {},
   "outputs": [],
   "source": []
  }
 ],
 "metadata": {
  "kernelspec": {
   "display_name": "Python 3",
   "language": "python",
   "name": "python3"
  },
  "language_info": {
   "codemirror_mode": {
    "name": "ipython",
    "version": 3
   },
   "file_extension": ".py",
   "mimetype": "text/x-python",
   "name": "python",
   "nbconvert_exporter": "python",
   "pygments_lexer": "ipython3",
   "version": "3.8.1"
  }
 },
 "nbformat": 4,
 "nbformat_minor": 4
}
