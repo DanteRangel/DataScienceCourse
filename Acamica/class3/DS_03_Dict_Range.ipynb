{
 "cells": [
  {
   "cell_type": "markdown",
   "metadata": {},
   "source": [
    "# Data Science - Encuentro 3\n",
    "1.- Diccionarios  \n",
    "2.- Range   \n",
    "3.- List Comprehension"
   ]
  },
  {
   "cell_type": "markdown",
   "metadata": {},
   "source": [
    "## 1.- Diccionarios\n",
    "Los diccionarios en Python son un tipo de estructura de datos que permite guardar un conjunto de pares \n",
    "_clave-valor_ y permite recuperar rápidamente el _valor_ asociado a una _clave_ determinada.  \n",
    "_(Las claves deben ser únicas dentro de un mismo diccionario, es decir que no pueden existir dos elementos con una misma clave)_  \n",
    "\n",
    "Formas de crear un Diccionario"
   ]
  },
  {
   "cell_type": "code",
   "execution_count": 1,
   "metadata": {},
   "outputs": [
    {
     "data": {
      "text/plain": [
       "{'curso': 'DS-MEX-2',\n",
       " 'dias': ['martes', 'jueves'],\n",
       " 'hora_ini': '',\n",
       " 'mentor1': 'Marco',\n",
       " 'mentor2': 'Ariel',\n",
       " 'tutor': 'Roberto'}"
      ]
     },
     "execution_count": 1,
     "metadata": {},
     "output_type": "execute_result"
    }
   ],
   "source": [
    "empty_dict = {}                      \n",
    "\n",
    "empty_dict2 = dict() \n",
    "\n",
    "academia_dict = {\"curso\": \"DS-MEX-2\", \n",
    "                 \"dias\":[\"martes\",\"jueves\"],\n",
    "                 \"hora_ini\": '',\n",
    "                 \"tutor\": \"Roberto\", \n",
    "                 \"mentor1\":\"Marco\", \n",
    "                 \"mentor2\":\"Ariel\"} \n",
    "\n",
    "academia_dict"
   ]
  },
  {
   "cell_type": "markdown",
   "metadata": {},
   "source": [
    "### 1.1.- Operaciones"
   ]
  },
  {
   "cell_type": "markdown",
   "metadata": {},
   "source": [
    "Acceder a un valor especifico del diccionario mediante su clave:"
   ]
  },
  {
   "cell_type": "code",
   "execution_count": 2,
   "metadata": {},
   "outputs": [
    {
     "data": {
      "text/plain": [
       "'DS-MEX-2'"
      ]
     },
     "execution_count": 2,
     "metadata": {},
     "output_type": "execute_result"
    }
   ],
   "source": [
    "academia_dict[\"curso\"]"
   ]
  },
  {
   "cell_type": "markdown",
   "metadata": {},
   "source": [
    "Asignar un valor especifico al diccionario mediante su clave:"
   ]
  },
  {
   "cell_type": "code",
   "execution_count": 3,
   "metadata": {},
   "outputs": [
    {
     "data": {
      "text/plain": [
       "{'curso': 'DS-MEX-2',\n",
       " 'dias': ['martes', 'jueves'],\n",
       " 'hora_ini': 7,\n",
       " 'mentor1': 'Marco',\n",
       " 'mentor2': 'Ariel',\n",
       " 'tutor': 'Roberto'}"
      ]
     },
     "execution_count": 3,
     "metadata": {},
     "output_type": "execute_result"
    }
   ],
   "source": [
    "academia_dict[\"hora_ini\"] = 7\n",
    "academia_dict"
   ]
  },
  {
   "cell_type": "markdown",
   "metadata": {},
   "source": [
    "Comparación _in_"
   ]
  },
  {
   "cell_type": "code",
   "execution_count": 4,
   "metadata": {},
   "outputs": [
    {
     "data": {
      "text/plain": [
       "True"
      ]
     },
     "execution_count": 4,
     "metadata": {},
     "output_type": "execute_result"
    }
   ],
   "source": [
    "\"hora_ini\" in academia_dict"
   ]
  },
  {
   "cell_type": "code",
   "execution_count": 5,
   "metadata": {},
   "outputs": [
    {
     "data": {
      "text/plain": [
       "False"
      ]
     },
     "execution_count": 5,
     "metadata": {},
     "output_type": "execute_result"
    }
   ],
   "source": [
    "\"hora_fin\" in academia_dict"
   ]
  },
  {
   "cell_type": "markdown",
   "metadata": {},
   "source": [
    "### 1.2.- Métodos\n",
    "**copy()** devuelve una copia del tipo diccionario:"
   ]
  },
  {
   "cell_type": "code",
   "execution_count": 6,
   "metadata": {},
   "outputs": [
    {
     "data": {
      "text/plain": [
       "True"
      ]
     },
     "execution_count": 6,
     "metadata": {},
     "output_type": "execute_result"
    }
   ],
   "source": [
    "academia_2 = academia_dict.copy()\n",
    "academia_2 == academia_dict"
   ]
  },
  {
   "cell_type": "markdown",
   "metadata": {},
   "source": [
    "**clear()** remueve todos los elementos desde el diccionario."
   ]
  },
  {
   "cell_type": "code",
   "execution_count": 7,
   "metadata": {},
   "outputs": [
    {
     "data": {
      "text/plain": [
       "{}"
      ]
     },
     "execution_count": 7,
     "metadata": {},
     "output_type": "execute_result"
    }
   ],
   "source": [
    "academia_2.clear()\n",
    "academia_2"
   ]
  },
  {
   "cell_type": "markdown",
   "metadata": {},
   "source": [
    "**fromkeys()** crea un nuevo diccionario con claves a partir de una lista.   \n",
    "(El valor de value por defecto es el tipo None.)"
   ]
  },
  {
   "cell_type": "code",
   "execution_count": 8,
   "metadata": {},
   "outputs": [
    {
     "name": "stdout",
     "output_type": "stream",
     "text": [
      "Nuevo Diccionario: {'python': '', 'miniconda': '', 'jupyter': ''}\n"
     ]
    }
   ],
   "source": [
    "lista = ('python', 'jupyter', 'miniconda')\n",
    "nuevo_dict = dict.fromkeys(lista, '')\n",
    "\n",
    "print(\"Nuevo Diccionario: %s\" %  str(nuevo_dict))"
   ]
  },
  {
   "cell_type": "markdown",
   "metadata": {},
   "source": [
    "**get()** devuelve el valor en base a una coincidencia de búsqueda mediante una clave, de lo contrario devuelve el objeto _None_."
   ]
  },
  {
   "cell_type": "code",
   "execution_count": 9,
   "metadata": {},
   "outputs": [
    {
     "name": "stdout",
     "output_type": "stream",
     "text": [
      "7\n",
      "None\n"
     ]
    }
   ],
   "source": [
    "print(academia_dict.get(\"hora_ini\"))\n",
    "print(academia_dict.get(\"hora_fin\"))"
   ]
  },
  {
   "cell_type": "markdown",
   "metadata": {},
   "source": [
    "**Otro métodos**\n",
    "+ items()\n",
    "+ keys()\n",
    "+ pop()\n",
    "+ popitem()\n",
    "+ update()\n",
    "+ values()"
   ]
  },
  {
   "cell_type": "markdown",
   "metadata": {},
   "source": [
    "### 1.4.- Recorrer un diccionario, imprimiendo su clave-valor"
   ]
  },
  {
   "cell_type": "code",
   "execution_count": 10,
   "metadata": {},
   "outputs": [
    {
     "name": "stdout",
     "output_type": "stream",
     "text": [
      "Clave: tutor - Valor: Roberto\n",
      "Clave: dias - Valor: ['martes', 'jueves']\n",
      "Clave: mentor2 - Valor: Ariel\n",
      "Clave: curso - Valor: DS-MEX-2\n",
      "Clave: mentor1 - Valor: Marco\n",
      "Clave: hora_ini - Valor: 7\n"
     ]
    }
   ],
   "source": [
    "for k,v in academia_dict.items():\n",
    "    print(\"Clave: %s - Valor: %s\" %(k,v))"
   ]
  },
  {
   "cell_type": "markdown",
   "metadata": {},
   "source": [
    "### 1.5.- Mas info. - \n",
    "\n",
    "help(dict)"
   ]
  },
  {
   "cell_type": "markdown",
   "metadata": {},
   "source": [
    "## 2.- range()\n",
    "\n",
    "El tipo range es una lista inmutable de números enteros en sucesión aritmética.\n",
    "\n",
    "+ Inmutable significa que, a diferencia de las listas, los range no se pueden modificar.\n",
    "+ Una sucesión artimética es una sucesión en la que la diferencia entre dos términos consecutivos es siempre la misma.\n",
    "\n",
    "Un range se crea llamando al tipo de datos con uno, dos o tres argumentos numéricos, como si fuera una función.\n",
    "\n",
    "Los tres argumentos del tipo range(m, n, p) son:\n",
    "\n",
    "+ m: valor inicial\n",
    "+ n: valor final (que no se alcanza nunca)\n",
    "+ p: paso (la cantidad que se avanza cada vez).\n",
    "\n",
    "### 2.1.- range(n)\n",
    "Crea una lista inmutable de *n* números enteros consecutivos que empieza en 0 y acaba en *n - 1*."
   ]
  },
  {
   "cell_type": "code",
   "execution_count": 11,
   "metadata": {},
   "outputs": [
    {
     "data": {
      "text/plain": [
       "range(0, 10)"
      ]
     },
     "execution_count": 11,
     "metadata": {},
     "output_type": "execute_result"
    }
   ],
   "source": [
    "x = range(10)\n",
    "x"
   ]
  },
  {
   "cell_type": "markdown",
   "metadata": {},
   "source": [
    "Para ver los valores del range(), es necesario convertirlo a lista mediante la función **list()**."
   ]
  },
  {
   "cell_type": "code",
   "execution_count": 12,
   "metadata": {},
   "outputs": [
    {
     "data": {
      "text/plain": [
       "[0, 1, 2, 3, 4, 5, 6, 7, 8, 9]"
      ]
     },
     "execution_count": 12,
     "metadata": {},
     "output_type": "execute_result"
    }
   ],
   "source": [
    "list(x)"
   ]
  },
  {
   "cell_type": "markdown",
   "metadata": {},
   "source": [
    "### 2.2.- range(m, n) \n",
    "Crea una lista inmutable de enteros consecutivos que empieza en *m* y acaba en *n - 1*."
   ]
  },
  {
   "cell_type": "code",
   "execution_count": 13,
   "metadata": {},
   "outputs": [
    {
     "name": "stdout",
     "output_type": "stream",
     "text": [
      "[5, 6, 7, 8, 9]\n",
      "[-5, -4, -3, -2, -1, 0]\n"
     ]
    }
   ],
   "source": [
    "print(list(range(5, 10)))\n",
    "\n",
    "print(list(range(-5, 1)))"
   ]
  },
  {
   "cell_type": "markdown",
   "metadata": {},
   "source": [
    "### 2.3.- range(m, n, p) \n",
    "Crea una lista inmutable de enteros que empieza en *m* y acaba justo antes de superar o igualar a *n*, aumentando los valores de *p* en *p*. Si p es negativo, los valores van disminuyendo de p en p."
   ]
  },
  {
   "cell_type": "code",
   "execution_count": 14,
   "metadata": {},
   "outputs": [
    {
     "name": "stdout",
     "output_type": "stream",
     "text": [
      "[5, 7, 9, 11, 13, 15, 17, 19]\n",
      "[20, 18, 16, 14, 12, 10, 8, 6]\n"
     ]
    }
   ],
   "source": [
    "print(list(range(5, 21, 2)))\n",
    "\n",
    "print(list(range(20, 5, -2)))"
   ]
  },
  {
   "cell_type": "markdown",
   "metadata": {},
   "source": [
    "## 3.- List Comprehension\n",
    "\n",
    "Es un método sintáctico que nos permite, con una única instrucción, crear listas a partir de los elementos de otros iterables (e.g. listas) de un modo más elegante, muy legible y funcionalmente eficiente.\n",
    "\n",
    "Expresión:  \n",
    "**new_list = [expression for member in iterable]**\n",
    "\n",
    "### 3.1.- Calcular el cuadrado de los 1ros. 10 nros:"
   ]
  },
  {
   "cell_type": "code",
   "execution_count": 15,
   "metadata": {},
   "outputs": [
    {
     "data": {
      "text/plain": [
       "[0, 1, 4, 9, 16, 25, 36, 49, 64, 81]"
      ]
     },
     "execution_count": 15,
     "metadata": {},
     "output_type": "execute_result"
    }
   ],
   "source": [
    "# Python \"puro\"\n",
    "squares = []\n",
    "\n",
    "for i in range(10):\n",
    "    squares.append(i * i)\n",
    "\n",
    "squares"
   ]
  },
  {
   "cell_type": "code",
   "execution_count": 16,
   "metadata": {},
   "outputs": [
    {
     "data": {
      "text/plain": [
       "[0, 1, 4, 9, 16, 25, 36, 49, 64, 81]"
      ]
     },
     "execution_count": 16,
     "metadata": {},
     "output_type": "execute_result"
    }
   ],
   "source": [
    "# List Comprehension\n",
    "squares = [i * i for i in range(10)]\n",
    "squares"
   ]
  },
  {
   "cell_type": "markdown",
   "metadata": {},
   "source": [
    "### 3.2.- Retornar los elementos comunes ente 2 listas:"
   ]
  },
  {
   "cell_type": "code",
   "execution_count": 3,
   "metadata": {},
   "outputs": [
    {
     "data": {
      "text/plain": [
       "[2, 4, 8, 10]"
      ]
     },
     "execution_count": 3,
     "metadata": {},
     "output_type": "execute_result"
    }
   ],
   "source": [
    "list1 = [1,2,4,  5,7,8,10]\n",
    "list2 =   [2,4,6,    8,10]\n",
    "\n",
    "# Python \"puro\"\n",
    "common_elements = []\n",
    "for element in list1:\n",
    "    if element in list2:\n",
    "        common_elements.append(element)\n",
    "        \n",
    "common_elements"
   ]
  },
  {
   "cell_type": "code",
   "execution_count": 4,
   "metadata": {},
   "outputs": [],
   "source": [
    "# List Comprehension\n",
    "common_elements = [x for x in list1 if x in list2]\n",
    "\n"
   ]
  },
  {
   "cell_type": "code",
   "execution_count": 5,
   "metadata": {},
   "outputs": [],
   "source": [
    "import numpy as np"
   ]
  },
  {
   "cell_type": "code",
   "execution_count": null,
   "metadata": {},
   "outputs": [],
   "source": []
  }
 ],
 "metadata": {
  "kernelspec": {
   "display_name": "Python 3",
   "language": "python",
   "name": "python3"
  },
  "language_info": {
   "codemirror_mode": {
    "name": "ipython",
    "version": 3
   },
   "file_extension": ".py",
   "mimetype": "text/x-python",
   "name": "python",
   "nbconvert_exporter": "python",
   "pygments_lexer": "ipython3",
   "version": "3.8.1"
  }
 },
 "nbformat": 4,
 "nbformat_minor": 4
}
