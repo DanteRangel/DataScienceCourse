{
 "cells": [
  {
   "cell_type": "markdown",
   "metadata": {},
   "source": [
    "## Entrega 1 - comentarios \n",
    "A continuacíon se explican algunos pasos utilizados en el código del enunciado de la Entrega 1.\n",
    "\n",
    "Para un mejor entendimiento se recomienda dividir la instrucción de acuerdo a la operaciones que se realizan, ejecutarla paso a paso y analizar el resultado.   \n"
   ]
  },
  {
   "cell_type": "markdown",
   "metadata": {},
   "source": [
    "### 1.- df.at"
   ]
  },
  {
   "cell_type": "raw",
   "metadata": {},
   "source": [
    "df_filtered.at[wrong_surface_rows.index, 'surface_total_in_m2']   = wrong_surface_rows.surface_covered_in_m2\n",
    "df_filtered.at[wrong_surface_rows.index, 'surface_covered_in_m2'] = wrong_surface_rows.surface_total_in_m2"
   ]
  },
  {
   "cell_type": "markdown",
   "metadata": {},
   "source": [
    "> `DF.at[index, col_name]` permite acceder a un elemento particular de un DF.  \n",
    "En éste caso, `wrong_surface_rows.index` contiene los indices o posiciones del las propiedades donde *superficie total* es menor *superficie cubierta*.  \n",
    "Suponiendo que `wrong_surface_rows` contiene las propiedades 1, 3 y 6,  \n",
    "con `df_filtered.at[wrong_surface_rows.index, 'surface_total_in_m2']` se accede a la columna *surface_total_in_m2* de las posiciones 1, 3 y 6 y se le asigna el valor de `wrong_surface_rows.surface_covered_in_m2`"
   ]
  },
  {
   "cell_type": "markdown",
   "metadata": {},
   "source": [
    "### 2.- Groupby()"
   ]
  },
  {
   "cell_type": "raw",
   "metadata": {},
   "source": [
    "conteo_puntos = df_filtered.groupby(['lat', 'lon']).size()\n",
    "conteo_puntos[conteo_puntos > 1].sort_values(ascending=False).head(10)"
   ]
  },
  {
   "cell_type": "markdown",
   "metadata": {},
   "source": [
    "> `DF.groupby(criterio)` permite combinar datos según algún critero.  \n",
    "En este caso agrupa los registros por **['lat', 'lon']**, es decir, registros con la misma _lat_ y _lon_ serán agrupados para luego poder aplicar alguna operación por grupo.  \n",
    "Con .size() podemos ver cuántos elementos hay en cada grupo. Por ej. `df_filtered.groupby(['lat', 'lon']).size()` no retorna:\n",
    "\n",
    "|lat|lon|\n",
    "|---|---|---|\n",
    "|-34.589546|-58.397364|153|  \n",
    "|-34.571150|-58.423297|126|   \n",
    "| .. | ... |..|\n",
    "\n",
    "> nos indica que hay: \n",
    "- 153 propiedades con _lat_ -34.589546 y _lon_ -58.397364.  \n",
    "- 126 en la _lat_ -34.571150 y _lon_ -58.423297\n",
    "- etc  \n",
    "\n",
    "> Luego, toma los grupos con las de 1 ocurrencia (conteo_puntos[conteo_puntos > 1]), es decir, se queda solo con las coordenas repetidas, ordena en forma descendente y muestra los primeros 10 registros."
   ]
  },
  {
   "cell_type": "markdown",
   "metadata": {},
   "source": [
    "### 3.- join"
   ]
  },
  {
   "cell_type": "raw",
   "metadata": {},
   "source": [
    "conteo_puntos.name = 'conteo'\n",
    "\n",
    "df_filtered = df_filtered.join(conteo_puntos, on=['lat', 'lon'])\n",
    "\n",
    "df_filtered = df_filtered[df_filtered.conteo <= 5]"
   ]
  },
  {
   "cell_type": "markdown",
   "metadata": {},
   "source": [
    "> 1.- asingna el nombre **conteo** al tamaño del grupo.  \n",
    "2.- con `join` relaciona *df_filtered* con *conteo_puntos* a traves de 'lat', 'lon' y agrega la columna 'conteo' 'conteo *df_filtered*.  \n",
    "3.- filtra las propiedades cuya _(lat, lon)_ aparezca como máximo 5 veces."
   ]
  },
  {
   "cell_type": "markdown",
   "metadata": {},
   "source": [
    "### 4.- Porcentanjes por grupos"
   ]
  },
  {
   "cell_type": "raw",
   "metadata": {},
   "source": [
    "total_propiedades = df_filtered.groupby('barrio')['property_type'].count().values"
   ]
  },
  {
   "cell_type": "markdown",
   "metadata": {},
   "source": [
    "> Agrupa por barrio y cuenta la cantidad todal de propiedades.  \n",
    "tambien se podría haber hecho:\n",
    "`total_propiedades = df_filtered.groupby('barrio').size().values`"
   ]
  },
  {
   "cell_type": "raw",
   "metadata": {},
   "source": [
    "porcentaje_casas_ph  = df_filtered[df_filtered.property_type.isin(['PH', 'house'])]\\\n",
    "    .groupby('barrio').count().property_type / total_propiedades"
   ]
  },
  {
   "cell_type": "markdown",
   "metadata": {},
   "source": [
    "> 1.- `df_filtered[df_filtered.property_type.isin(['PH', 'house'])]` filtra las propiedades que sean _PH o House_  \n",
    "2- `.groupby('barrio').count()` agrupa por barrio y cuanta la cantidad de 'PH', 'house' que contiene  \n",
    "3.- Divide la cantidad de 'PH', 'house' por la cantidad total de propeidades de cada barrio.  \n",
    "\n",
    "> Otra forma podría haber sido con `size()`. ej:  \n",
    "`df_filtered[df_filtered.property_type.isin(['PH', 'house'])].groupby('barrio').size() / total_propiedades`\n",
    "    \n",
    "> Lo mismo para 'apartment'"
   ]
  },
  {
   "cell_type": "raw",
   "metadata": {},
   "source": [
    "print(\"Barrios con mayor porcentaje de edificios: \\n\", porcentaje_edificios.sort_values()[::-1][:5])"
   ]
  },
  {
   "cell_type": "markdown",
   "metadata": {},
   "source": [
    "> Ordena los %, con `[::-1]` recorre a partir del último elemento y con `[:5]` muestra los 1ros. 5 registros.\n",
    "\n",
    "> Tambien se podría haber hecho con:\n",
    "`porcentaje_edificios.sort_values(ascending=False)[:5]`"
   ]
  },
  {
   "cell_type": "markdown",
   "metadata": {},
   "source": [
    "### 5.- Porcentajes según tipo de propiedad"
   ]
  },
  {
   "cell_type": "raw",
   "metadata": {},
   "source": [
    "barrios_casas = porcentaje_casas_ph.sort_values()[::-1][:5].index\n",
    "barrios_edificios = porcentaje_edificios.sort_values()[::-1][:5].index"
   ]
  },
  {
   "cell_type": "markdown",
   "metadata": {},
   "source": [
    "> En **barrios_casas** en **barrios_edificios** asigna los 5 barrios con mayor porcentaje de casas y de edificiones, respectivamente."
   ]
  },
  {
   "cell_type": "raw",
   "metadata": {},
   "source": [
    "fig, axs = plt.subplots(1,2,figsize=(14,7))\n",
    "\n",
    "df_filtered[df_filtered.barrio.isin(barrios_edificios)].property_type.value_counts()\\\n",
    "    .plot(x=None,y=None, kind='pie', startangle=30, ax=axs[0],autopct='%1.2f%%')\n",
    "\n",
    "df_filtered[df_filtered.barrio.isin(barrios_casas)].property_type.value_counts()\\\n",
    "    .plot(x=None,y=None, kind='pie', ax=axs[1],autopct='%1.2f%%')"
   ]
  },
  {
   "cell_type": "markdown",
   "metadata": {},
   "source": [
    "> 1.- Con `df_filtered[df_filtered.barrio.isin(barrios_edificios)]` filtra los barrios que contienen mayor porcentaje de edificios.  \n",
    "2.- Toma el campo `property_type` y cuenta la cantidad de valores que tiene. Por ej. en los barrios pertenecientes a **barrios_edificios** hay:\n",
    "\n",
    "|property_type|Cant|\n",
    "|-------------|----|\n",
    "|apartment|3586|\n",
    "|house|78|\n",
    "|PH|41|\n",
    "\n",
    "> y con esto hace un Pie plot.\n",
    "\n",
    "> Lo mismo para **barrios_casas**"
   ]
  },
  {
   "cell_type": "markdown",
   "metadata": {},
   "source": [
    "### 6.- Mas caros / Mas baratos"
   ]
  },
  {
   "cell_type": "raw",
   "metadata": {},
   "source": [
    "table = pd.pivot_table(df, values='price_usd_per_m2', index=['barrio'], aggfunc=np.mean)\n",
    "mas_caros = table.sort_values('price_usd_per_m2', ascending=False).iloc[:5]\n",
    "mas_caros"
   ]
  },
  {
   "cell_type": "markdown",
   "metadata": {},
   "source": [
    "> Con las tablas Pivot podemos agrupar datos y aplicarles alguna operación.  \n",
    "En éste caso agrupa los datos por Barrio (`index=['barrio']`)  y calcula la media (`aggfunc=np.mean`) sobre la columna *price_usd_per_m2* (`values='price_usd_per_m2'`). Luego, ordena descendentemente y toma los 1ros. 5\n",
    "\n",
    "> Otra opción podría haber sido utilizando `groupby()` + `mean()`. Por ej:"
   ]
  },
  {
   "cell_type": "raw",
   "metadata": {},
   "source": [
    "df_filtered.groupby('barrio')[\"price_usd_per_m2\"].mean().sort_values(ascending=False).reset_index()[:5]"
   ]
  }
 ],
 "metadata": {
  "kernelspec": {
   "display_name": "Python 3",
   "language": "python",
   "name": "python3"
  },
  "language_info": {
   "codemirror_mode": {
    "name": "ipython",
    "version": 3
   },
   "file_extension": ".py",
   "mimetype": "text/x-python",
   "name": "python",
   "nbconvert_exporter": "python",
   "pygments_lexer": "ipython3",
   "version": "3.5.2"
  }
 },
 "nbformat": 4,
 "nbformat_minor": 2
}
